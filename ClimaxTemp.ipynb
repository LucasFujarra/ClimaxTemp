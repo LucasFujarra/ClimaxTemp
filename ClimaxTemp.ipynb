{
  "nbformat": 4,
  "nbformat_minor": 0,
  "metadata": {
    "colab": {
      "provenance": [],
      "authorship_tag": "ABX9TyMEnfFFq4kfp76rFTQXc8qY",
      "include_colab_link": true
    },
    "kernelspec": {
      "name": "python3",
      "display_name": "Python 3"
    },
    "language_info": {
      "name": "python"
    }
  },
  "cells": [
    {
      "cell_type": "markdown",
      "metadata": {
        "id": "view-in-github",
        "colab_type": "text"
      },
      "source": [
        "<a href=\"https://colab.research.google.com/github/LucasFujarra/ClimaxTemp/blob/main/ClimaxTemp.ipynb\" target=\"_parent\"><img src=\"https://colab.research.google.com/assets/colab-badge.svg\" alt=\"Open In Colab\"/></a>"
      ]
    },
    {
      "cell_type": "markdown",
      "source": [
        "Dependências"
      ],
      "metadata": {
        "id": "jP4ckBkH1o1L"
      }
    },
    {
      "cell_type": "code",
      "execution_count": null,
      "metadata": {
        "id": "QRE-aWmj0zYM",
        "collapsed": true
      },
      "outputs": [],
      "source": [
        "!pip install requests\n",
        "import requests\n",
        "from IPython.display import clear_output"
      ]
    },
    {
      "cell_type": "markdown",
      "source": [
        "# **Climax Temp**"
      ],
      "metadata": {
        "id": "7EZ8ksvUAr_s"
      }
    },
    {
      "cell_type": "code",
      "source": [
        "#API\n",
        "API_KEY = \"a44732faf772a15a554b72afc1045161\"\n",
        "cidade = \"São Paulo\"\n",
        "link = f\"https://api.openweathermap.org/data/2.5/weather?q={cidade}&appid={API_KEY}&lang=pt_br\"\n",
        "\n",
        "requisicao = requests.get(link)\n",
        "dicionariojson = requisicao.json()\n",
        "\n",
        "#Entrada\n",
        "print (\"_--Climax Temp--_\")\n",
        "cidade = input (\"Digite uma Cidade : \")\n",
        "clear_output()\n",
        "\n",
        "#Requests\n",
        "descricao = dicionariojson[\"weather\"][0][\"description\"]\n",
        "temperatura = dicionariojson[\"main\"][\"temp\"]\n",
        "maxima = dicionariojson[\"main\"][\"temp_max\"]\n",
        "minima = dicionariojson[\"main\"][\"temp_min\"]\n",
        "\n",
        "#conversao para Cº\n",
        "temperatura = temperatura - 273.15\n",
        "maxima = maxima - 273.15\n",
        "minima = minima - 273.15\n",
        "\n",
        "print(f\"_--Climax Temp--_ \\n\\n Cidade: {cidade}\\n Temperatura: {round(temperatura)}ºC\\n Tempo: {descricao}\\n\\n Máxima: {round(maxima)}\\n Minima: {round(minima)}\")\n"
      ],
      "metadata": {
        "id": "M9Dq9OQYBVKr"
      },
      "execution_count": null,
      "outputs": []
    }
  ]
}